{
 "cells": [
  {
   "cell_type": "markdown",
   "id": "b131f231",
   "metadata": {},
   "source": [
    "# Storage Solutions for Big Data - CA1\n",
    "\n",
    "\n",
    "The assessment CA 1 by **Yulianna Tsaruk** \\\n",
    "Programme Title: Higher Diploma in Science in AI Applications \\\n",
    "Module Title: Storage Solutions for Big Data\n",
    "\n",
    "\n",
    "\n",
    "## Code contents:\n",
    "1. **Exploratory Data Analysis & Processing (this file)**\n",
    "2. **[Training model and Usage Example](./2_training.ipynb)**\n",
    "\n",
    "\n",
    "\n",
    "## Intoduction\n",
    "\n",
    "For this project I'm using HDFS (Hadoop Distributed File System) as the primary storage system, Apache Spark for processing with PySpark - an interface for Apache Spark in Python.\n",
    "\n",
    "In this file, I will load several files from a selected dataset, process them and store them in Apache Parquet - a highly efficient column-oriented data storage format in the Apache Hadoop ecosystem."
   ]
  },
  {
   "cell_type": "markdown",
   "id": "89c06a04-b0b9-4b64-9a71-f4b11230790b",
   "metadata": {},
   "source": [
    "## Preparation"
   ]
  },
  {
   "cell_type": "code",
   "execution_count": 1,
   "id": "304adcf0",
   "metadata": {},
   "outputs": [],
   "source": [
    "# import spark instances\n",
    "from pyspark.sql import SparkSession, DataFrame\n",
    "from pyspark.sql.functions import to_date, dayofmonth, month, year, col, explode, \\\n",
    "                unix_timestamp, when, regexp_replace, mean, concat_ws, \\\n",
    "                dayofweek, udf, min, max, desc, count\n",
    "from pyspark.sql.types import FloatType, BooleanType, StringType\n",
    "\n",
    "# import additional libraries\n",
    "import pandas as pd\n",
    "import matplotlib.pyplot as plt\n",
    "# ignore warnings\n",
    "import warnings\n",
    "warnings.filterwarnings(\"ignore\")\n",
    "\n",
    "try:\n",
    "    import holidays\n",
    "except ImportError:\n",
    "    # install library\n",
    "    !pip install holidays"
   ]
  },
  {
   "cell_type": "code",
   "execution_count": 2,
   "id": "6bedf9c3",
   "metadata": {},
   "outputs": [
    {
     "name": "stderr",
     "output_type": "stream",
     "text": [
      "24/04/26 00:16:33 WARN SparkSession: Using an existing Spark session; only runtime SQL configurations will take effect.\n"
     ]
    }
   ],
   "source": [
    "# Creating Spark session with configurations\n",
    "spark = (SparkSession.builder \\\n",
    "    .appName(\"Tokyo Airbnb Processing and Analysis\")\n",
    "    # hardware-related configs, comment it if not needed for your machine.\n",
    "    .config(\"spark.driver.memory\", \"6g\")\n",
    "    .config(\"spark.executor.memory\", \"6g\")  \n",
    "    .config(\"spark.dynamicAllocation.enabled\", \"true\")\n",
    "    .config(\"spark.network.timeout\", \"600s\") \n",
    "    .config(\"spark.executor.heartbeatInterval\", \"120s\")\n",
    "    \n",
    "    # to output more\n",
    "    .config(\"spark.sql.debug.maxToStringFields\", 100)\n",
    "    .getOrCreate())"
   ]
  },
  {
   "cell_type": "code",
   "execution_count": 3,
   "id": "76927a86",
   "metadata": {},
   "outputs": [],
   "source": [
    "# simulating same output equivalent to the pandas.DataFrame.info() method  \n",
    "def print_dataframe_info(df: DataFrame):\n",
    "    \"\"\"\n",
    "    Print basic information about data like column names, null counts, and data types for a Spark DataFrame.\n",
    "\n",
    "    Args:\n",
    "    df (DataFrame): The Spark DataFrame to be analyze.\n",
    "    \"\"\"\n",
    "    # DataFrame shape\n",
    "    total_rows = df.count()\n",
    "    total_cols = len(df.columns)\n",
    "    \n",
    "\n",
    "    # Collect column names and their data types\n",
    "    schema_info = [(field.name, field.dataType) for field in df.schema.fields]\n",
    "    out_ = []\n",
    "    for column, dtype in schema_info:\n",
    "        null_count = df.filter(col(column).isNull()).count()\n",
    "        out_.append({'Column': column, 'Nulls': null_count, 'Type': dtype.simpleString()})\n",
    "    \n",
    "    print(pd.DataFrame(out_))\n",
    "    print()\n",
    "    print(f\"\\tA dataset shape: {total_rows} rows, {total_cols} columns.\")\n",
    "\n",
    "pd.set_option('display.max_rows', None) # show all rows for pandas df\n",
    "pd.set_option('display.float_format', lambda x: '%.3f' % x) # avoid scientific notation"
   ]
  },
  {
   "cell_type": "markdown",
   "id": "23996547",
   "metadata": {},
   "source": [
    "## Load 1st dataset"
   ]
  },
  {
   "cell_type": "code",
   "execution_count": 89,
   "id": "29e32d1f-4898-4e37-bb46-ab784c72805a",
   "metadata": {},
   "outputs": [],
   "source": [
    "# Set path to folder with dataset on HDFS\n",
    "dataset_path_hdfs = '/user1/dataset/' # musr end with /"
   ]
  },
  {
   "cell_type": "code",
   "execution_count": 4,
   "id": "03a309a1",
   "metadata": {},
   "outputs": [
    {
     "name": "stderr",
     "output_type": "stream",
     "text": [
      "[Stage 1:>                                                          (0 + 2) / 2]\r"
     ]
    },
    {
     "name": "stdout",
     "output_type": "stream",
     "text": [
      "+----------+----------+---------+----------+--------------+--------------+--------------+\n",
      "|listing_id|      date|available|     price|adjusted_price|minimum_nights|maximum_nights|\n",
      "+----------+----------+---------+----------+--------------+--------------+--------------+\n",
      "|    197677|2023-06-29|        f|$11,000.00|    $11,000.00|             3|          1125|\n",
      "|    197677|2023-06-30|        f|$11,000.00|    $11,000.00|             3|          1125|\n",
      "|    197677|2023-07-01|        f|$11,000.00|    $11,000.00|             3|          1125|\n",
      "|    197677|2023-07-02|        f|$11,000.00|    $11,000.00|             3|          1125|\n",
      "|    197677|2023-07-03|        f|$11,000.00|    $11,000.00|             3|          1125|\n",
      "+----------+----------+---------+----------+--------------+--------------+--------------+\n",
      "only showing top 5 rows\n",
      "\n"
     ]
    },
    {
     "name": "stderr",
     "output_type": "stream",
     "text": [
      "                                                                                \r"
     ]
    }
   ],
   "source": [
    "# location of 1st file in Hadoop\n",
    "dataset_path = dataset_path_hdfs + \"calendar.csv\" \n",
    "\n",
    "# load data\n",
    "df_calendar = spark.read.csv(dataset_path, header=True, # 1st line is a header\n",
    "                             inferSchema=True           # detect data types automatically\n",
    "                            )\n",
    "df_calendar.show(5)"
   ]
  },
  {
   "cell_type": "markdown",
   "id": "2bbb1848",
   "metadata": {},
   "source": [
    "### Explore and Process the data"
   ]
  },
  {
   "cell_type": "code",
   "execution_count": 5,
   "id": "d246c884",
   "metadata": {},
   "outputs": [
    {
     "name": "stderr",
     "output_type": "stream",
     "text": [
      "[Stage 24:>                                                         (0 + 2) / 2]\r"
     ]
    },
    {
     "name": "stdout",
     "output_type": "stream",
     "text": [
      "           Column  Nulls    Type\n",
      "0      listing_id      0  bigint\n",
      "1            date      0    date\n",
      "2       available      0  string\n",
      "3           price      0  string\n",
      "4  adjusted_price      0  string\n",
      "5  minimum_nights    332     int\n",
      "6  maximum_nights    332     int\n",
      "\n",
      "\tA dataset shape: 4078413 rows, 7 columns.\n"
     ]
    },
    {
     "name": "stderr",
     "output_type": "stream",
     "text": [
      "                                                                                \r"
     ]
    }
   ],
   "source": [
    "# Nulls and types summary\n",
    "print_dataframe_info(df_calendar)"
   ]
  },
  {
   "cell_type": "code",
   "execution_count": 6,
   "id": "722e6351",
   "metadata": {},
   "outputs": [
    {
     "name": "stderr",
     "output_type": "stream",
     "text": [
      "[Stage 27:=============================>                            (1 + 1) / 2]\r"
     ]
    },
    {
     "name": "stdout",
     "output_type": "stream",
     "text": [
      "+-------+--------------------+---------+-------------+--------------+------------------+------------------+\n",
      "|summary|          listing_id|available|        price|adjusted_price|    minimum_nights|    maximum_nights|\n",
      "+-------+--------------------+---------+-------------+--------------+------------------+------------------+\n",
      "|  count|             4078413|  4078413|      4078413|       4078413|           4078081|           4078081|\n",
      "|   mean|2.520073870723633...|     null|         null|          null|2.7664423536462373| 676.3645109059873|\n",
      "| stddev|3.745944660493916...|     null|         null|          null|12.338796688561727|449.44182861714916|\n",
      "|    min|              197677|        f|$1,000,000.00| $1,000,000.00|                 1|                 1|\n",
      "|    max|  923132709196905769|        t|  $999,999.00|   $999,999.00|              1000|              1125|\n",
      "+-------+--------------------+---------+-------------+--------------+------------------+------------------+\n",
      "\n"
     ]
    },
    {
     "name": "stderr",
     "output_type": "stream",
     "text": [
      "                                                                                \r"
     ]
    }
   ],
   "source": [
    "# Statistical summary\n",
    "df_calendar.describe().show()"
   ]
  },
  {
   "cell_type": "markdown",
   "id": "396aa746",
   "metadata": {},
   "source": [
    "Some variables are wrong dtype. For example, we can't see mean of price column, because values are string type. "
   ]
  },
  {
   "cell_type": "code",
   "execution_count": 7,
   "id": "324036b2",
   "metadata": {
    "scrolled": true
   },
   "outputs": [
    {
     "name": "stderr",
     "output_type": "stream",
     "text": [
      "                                                                                \r"
     ]
    },
    {
     "name": "stdout",
     "output_type": "stream",
     "text": [
      "There are 11175 properties in this dataset.\n"
     ]
    },
    {
     "name": "stderr",
     "output_type": "stream",
     "text": [
      "                                                                                \r"
     ]
    },
    {
     "data": {
      "text/html": [
       "<div>\n",
       "<style scoped>\n",
       "    .dataframe tbody tr th:only-of-type {\n",
       "        vertical-align: middle;\n",
       "    }\n",
       "\n",
       "    .dataframe tbody tr th {\n",
       "        vertical-align: top;\n",
       "    }\n",
       "\n",
       "    .dataframe thead th {\n",
       "        text-align: right;\n",
       "    }\n",
       "</style>\n",
       "<table border=\"1\" class=\"dataframe\">\n",
       "  <thead>\n",
       "    <tr style=\"text-align: right;\">\n",
       "      <th></th>\n",
       "      <th>listing_id</th>\n",
       "      <th>count</th>\n",
       "      <th>days_count</th>\n",
       "    </tr>\n",
       "  </thead>\n",
       "  <tbody>\n",
       "    <tr>\n",
       "      <th>0</th>\n",
       "      <td>4050925</td>\n",
       "      <td>33</td>\n",
       "      <td>33</td>\n",
       "    </tr>\n",
       "    <tr>\n",
       "      <th>1</th>\n",
       "      <td>12597472</td>\n",
       "      <td>339</td>\n",
       "      <td>339</td>\n",
       "    </tr>\n",
       "    <tr>\n",
       "      <th>2</th>\n",
       "      <td>19413667</td>\n",
       "      <td>339</td>\n",
       "      <td>339</td>\n",
       "    </tr>\n",
       "    <tr>\n",
       "      <th>3</th>\n",
       "      <td>742241466430561437</td>\n",
       "      <td>339</td>\n",
       "      <td>339</td>\n",
       "    </tr>\n",
       "    <tr>\n",
       "      <th>4</th>\n",
       "      <td>806171362910072416</td>\n",
       "      <td>339</td>\n",
       "      <td>339</td>\n",
       "    </tr>\n",
       "  </tbody>\n",
       "</table>\n",
       "</div>"
      ],
      "text/plain": [
       "           listing_id  count  days_count\n",
       "0             4050925     33          33\n",
       "1            12597472    339         339\n",
       "2            19413667    339         339\n",
       "3  742241466430561437    339         339\n",
       "4  806171362910072416    339         339"
      ]
     },
     "execution_count": 7,
     "metadata": {},
     "output_type": "execute_result"
    }
   ],
   "source": [
    "# Check amount of unique values in the 'listing_id' column\n",
    "listing_gr = df_calendar.groupBy(\"listing_id\").count()\n",
    "unique_ids = listing_gr.count()\n",
    "print('There are', listing_gr.count(), 'properties in this dataset.')\n",
    "\n",
    "pandas_df_listing = listing_gr.orderBy(col(\"count\")).toPandas()\n",
    "pandas_df_listing['days_count'] = pandas_df_listing['count']\n",
    "result = pandas_df_listing.groupby('days_count').size().reset_index(name='properties_count')\n",
    "pandas_df_listing.head()"
   ]
  },
  {
   "cell_type": "code",
   "execution_count": 8,
   "id": "0bde465d",
   "metadata": {},
   "outputs": [
    {
     "data": {
      "text/html": [
       "<div>\n",
       "<style scoped>\n",
       "    .dataframe tbody tr th:only-of-type {\n",
       "        vertical-align: middle;\n",
       "    }\n",
       "\n",
       "    .dataframe tbody tr th {\n",
       "        vertical-align: top;\n",
       "    }\n",
       "\n",
       "    .dataframe thead th {\n",
       "        text-align: right;\n",
       "    }\n",
       "</style>\n",
       "<table border=\"1\" class=\"dataframe\">\n",
       "  <thead>\n",
       "    <tr style=\"text-align: right;\">\n",
       "      <th></th>\n",
       "      <th>days_count</th>\n",
       "      <th>properties_count</th>\n",
       "    </tr>\n",
       "  </thead>\n",
       "  <tbody>\n",
       "    <tr>\n",
       "      <th>0</th>\n",
       "      <td>33</td>\n",
       "      <td>1</td>\n",
       "    </tr>\n",
       "    <tr>\n",
       "      <th>1</th>\n",
       "      <td>339</td>\n",
       "      <td>5</td>\n",
       "    </tr>\n",
       "    <tr>\n",
       "      <th>2</th>\n",
       "      <td>365</td>\n",
       "      <td>11169</td>\n",
       "    </tr>\n",
       "  </tbody>\n",
       "</table>\n",
       "</div>"
      ],
      "text/plain": [
       "   days_count  properties_count\n",
       "0          33                 1\n",
       "1         339                 5\n",
       "2         365             11169"
      ]
     },
     "execution_count": 8,
     "metadata": {},
     "output_type": "execute_result"
    }
   ],
   "source": [
    "result"
   ]
  },
  {
   "cell_type": "code",
   "execution_count": 9,
   "id": "0ab04024",
   "metadata": {
    "scrolled": true
   },
   "outputs": [
    {
     "data": {
      "text/plain": [
       "[4050925,\n",
       " 12597472,\n",
       " 19413667,\n",
       " 742241466430561437,\n",
       " 806171362910072416,\n",
       " 772140258073141388]"
      ]
     },
     "execution_count": 9,
     "metadata": {},
     "output_type": "execute_result"
    }
   ],
   "source": [
    "listing_to_drop = list(pandas_df_listing[pandas_df_listing['count'] <= 339]['listing_id'])\n",
    "listing_to_drop"
   ]
  },
  {
   "cell_type": "code",
   "execution_count": 10,
   "id": "ddf7820a-4a58-4c8e-9bf7-3980a73307f5",
   "metadata": {},
   "outputs": [
    {
     "name": "stderr",
     "output_type": "stream",
     "text": [
      "                                                                                \r"
     ]
    },
    {
     "data": {
      "text/plain": [
       "1728"
      ]
     },
     "execution_count": 10,
     "metadata": {},
     "output_type": "execute_result"
    }
   ],
   "source": [
    "df_calendar.filter(col(\"listing_id\").isin(listing_to_drop)).count()"
   ]
  },
  {
   "cell_type": "markdown",
   "id": "4d813ea0",
   "metadata": {},
   "source": [
    "1 property has data only for 33 days, while most of other properties obtain data for a whole year (365 days). I will drop this property and other 5 that has data only for 339 days, as it's only rows."
   ]
  },
  {
   "cell_type": "code",
   "execution_count": 11,
   "id": "320b62e8",
   "metadata": {},
   "outputs": [],
   "source": [
    "# drop rows for ids because too much data is missing\n",
    "df_calendar_clean = df_calendar.filter(~col(\"listing_id\").isin(listing_to_drop))\n"
   ]
  },
  {
   "cell_type": "code",
   "execution_count": 12,
   "id": "bed3e910-e012-4f18-8ad8-a719672ccb95",
   "metadata": {},
   "outputs": [
    {
     "name": "stderr",
     "output_type": "stream",
     "text": [
      "[Stage 74:>                                                         (0 + 2) / 2]\r"
     ]
    },
    {
     "name": "stdout",
     "output_type": "stream",
     "text": [
      "           Column  Nulls    Type\n",
      "0      listing_id      0  bigint\n",
      "1            date      0    date\n",
      "2       available      0  string\n",
      "3           price      0  string\n",
      "4  adjusted_price      0  string\n",
      "5  minimum_nights    332     int\n",
      "6  maximum_nights    332     int\n",
      "\n",
      "\tA dataset shape: 4078413 rows, 7 columns.\n"
     ]
    },
    {
     "name": "stderr",
     "output_type": "stream",
     "text": [
      "                                                                                \r"
     ]
    }
   ],
   "source": [
    "print_dataframe_info(df_calendar)"
   ]
  },
  {
   "cell_type": "code",
   "execution_count": 13,
   "id": "9cfa1e7b",
   "metadata": {},
   "outputs": [
    {
     "name": "stderr",
     "output_type": "stream",
     "text": [
      "[Stage 77:>                                                         (0 + 2) / 2]\r"
     ]
    },
    {
     "name": "stdout",
     "output_type": "stream",
     "text": [
      "+---------+\n",
      "|available|\n",
      "+---------+\n",
      "|        f|\n",
      "|        t|\n",
      "+---------+\n",
      "\n"
     ]
    },
    {
     "name": "stderr",
     "output_type": "stream",
     "text": [
      "                                                                                \r"
     ]
    }
   ],
   "source": [
    "# Options in col 'available'\n",
    "df_calendar_clean.select('available').distinct().show()"
   ]
  },
  {
   "cell_type": "markdown",
   "id": "0f38cccc",
   "metadata": {},
   "source": [
    "It's worth to note that, though price has a US dollar sign, it is in Japanese Yen and a sign must be removed in order to convert data to float."
   ]
  },
  {
   "cell_type": "code",
   "execution_count": 14,
   "id": "e33e3712",
   "metadata": {
    "scrolled": true
   },
   "outputs": [
    {
     "name": "stderr",
     "output_type": "stream",
     "text": [
      "                                                                                \r"
     ]
    },
    {
     "data": {
      "text/html": [
       "<div>\n",
       "<style scoped>\n",
       "    .dataframe tbody tr th:only-of-type {\n",
       "        vertical-align: middle;\n",
       "    }\n",
       "\n",
       "    .dataframe tbody tr th {\n",
       "        vertical-align: top;\n",
       "    }\n",
       "\n",
       "    .dataframe thead th {\n",
       "        text-align: right;\n",
       "    }\n",
       "</style>\n",
       "<table border=\"1\" class=\"dataframe\">\n",
       "  <thead>\n",
       "    <tr style=\"text-align: right;\">\n",
       "      <th></th>\n",
       "      <th>minimum_nights</th>\n",
       "      <th>maximum_nights</th>\n",
       "    </tr>\n",
       "  </thead>\n",
       "  <tbody>\n",
       "    <tr>\n",
       "      <th>count</th>\n",
       "      <td>4076353.000</td>\n",
       "      <td>4076353.000</td>\n",
       "    </tr>\n",
       "    <tr>\n",
       "      <th>mean</th>\n",
       "      <td>2.767</td>\n",
       "      <td>676.305</td>\n",
       "    </tr>\n",
       "    <tr>\n",
       "      <th>std</th>\n",
       "      <td>12.341</td>\n",
       "      <td>449.516</td>\n",
       "    </tr>\n",
       "    <tr>\n",
       "      <th>min</th>\n",
       "      <td>1.000</td>\n",
       "      <td>1.000</td>\n",
       "    </tr>\n",
       "    <tr>\n",
       "      <th>25%</th>\n",
       "      <td>1.000</td>\n",
       "      <td>365.000</td>\n",
       "    </tr>\n",
       "    <tr>\n",
       "      <th>50%</th>\n",
       "      <td>2.000</td>\n",
       "      <td>365.000</td>\n",
       "    </tr>\n",
       "    <tr>\n",
       "      <th>75%</th>\n",
       "      <td>2.000</td>\n",
       "      <td>1125.000</td>\n",
       "    </tr>\n",
       "    <tr>\n",
       "      <th>max</th>\n",
       "      <td>1000.000</td>\n",
       "      <td>1125.000</td>\n",
       "    </tr>\n",
       "  </tbody>\n",
       "</table>\n",
       "</div>"
      ],
      "text/plain": [
       "       minimum_nights  maximum_nights\n",
       "count     4076353.000     4076353.000\n",
       "mean            2.767         676.305\n",
       "std            12.341         449.516\n",
       "min             1.000           1.000\n",
       "25%             1.000         365.000\n",
       "50%             2.000         365.000\n",
       "75%             2.000        1125.000\n",
       "max          1000.000        1125.000"
      ]
     },
     "execution_count": 14,
     "metadata": {},
     "output_type": "execute_result"
    }
   ],
   "source": [
    "# check min/max nights values\n",
    "nights_df = df_calendar_clean.select(col('minimum_nights'), col('maximum_nights')).toPandas()\n",
    "nights_df.describe()"
   ]
  },
  {
   "cell_type": "code",
   "execution_count": 15,
   "id": "ca3900c1",
   "metadata": {},
   "outputs": [
    {
     "data": {
      "text/html": [
       "<div>\n",
       "<style scoped>\n",
       "    .dataframe tbody tr th:only-of-type {\n",
       "        vertical-align: middle;\n",
       "    }\n",
       "\n",
       "    .dataframe tbody tr th {\n",
       "        vertical-align: top;\n",
       "    }\n",
       "\n",
       "    .dataframe thead th {\n",
       "        text-align: right;\n",
       "    }\n",
       "</style>\n",
       "<table border=\"1\" class=\"dataframe\">\n",
       "  <thead>\n",
       "    <tr style=\"text-align: right;\">\n",
       "      <th></th>\n",
       "      <th>minimum_nights</th>\n",
       "      <th>maximum_nights</th>\n",
       "    </tr>\n",
       "  </thead>\n",
       "  <tbody>\n",
       "    <tr>\n",
       "      <th>0</th>\n",
       "      <td>3.000</td>\n",
       "      <td>1125.000</td>\n",
       "    </tr>\n",
       "    <tr>\n",
       "      <th>1</th>\n",
       "      <td>3.000</td>\n",
       "      <td>1125.000</td>\n",
       "    </tr>\n",
       "    <tr>\n",
       "      <th>2</th>\n",
       "      <td>3.000</td>\n",
       "      <td>1125.000</td>\n",
       "    </tr>\n",
       "    <tr>\n",
       "      <th>3</th>\n",
       "      <td>3.000</td>\n",
       "      <td>1125.000</td>\n",
       "    </tr>\n",
       "    <tr>\n",
       "      <th>4</th>\n",
       "      <td>3.000</td>\n",
       "      <td>1125.000</td>\n",
       "    </tr>\n",
       "  </tbody>\n",
       "</table>\n",
       "</div>"
      ],
      "text/plain": [
       "   minimum_nights  maximum_nights\n",
       "0           3.000        1125.000\n",
       "1           3.000        1125.000\n",
       "2           3.000        1125.000\n",
       "3           3.000        1125.000\n",
       "4           3.000        1125.000"
      ]
     },
     "execution_count": 15,
     "metadata": {},
     "output_type": "execute_result"
    }
   ],
   "source": [
    "nights_df.head()"
   ]
  },
  {
   "cell_type": "code",
   "execution_count": 16,
   "id": "e46444a3",
   "metadata": {
    "scrolled": true
   },
   "outputs": [],
   "source": [
    "# nights_df.plot(kind='density')"
   ]
  },
  {
   "cell_type": "code",
   "execution_count": 17,
   "id": "166c768a",
   "metadata": {},
   "outputs": [],
   "source": [
    "# Data Preprocessing\n",
    "df_calendar_new = df_calendar \\\n",
    "    .withColumn(\"available\", when(col(\"available\") == \"t\", 1).otherwise(0)) \\\n",
    "    .withColumn(\"price\", regexp_replace(col(\"price\"), \"[\\$,]\", \"\").cast(FloatType())) \\\n",
    "    .withColumn(\"adjusted_price\", regexp_replace(col(\"adjusted_price\"), \"[\\$,]\", \"\").cast(FloatType())) \\\n",
    "    .withColumn(\"date_unix\", unix_timestamp(col(\"date\")))"
   ]
  },
  {
   "cell_type": "code",
   "execution_count": 18,
   "id": "9f85ccf6",
   "metadata": {},
   "outputs": [
    {
     "name": "stderr",
     "output_type": "stream",
     "text": [
      "                                                                                \r"
     ]
    },
    {
     "data": {
      "text/html": [
       "<div>\n",
       "<style scoped>\n",
       "    .dataframe tbody tr th:only-of-type {\n",
       "        vertical-align: middle;\n",
       "    }\n",
       "\n",
       "    .dataframe tbody tr th {\n",
       "        vertical-align: top;\n",
       "    }\n",
       "\n",
       "    .dataframe thead th {\n",
       "        text-align: right;\n",
       "    }\n",
       "</style>\n",
       "<table border=\"1\" class=\"dataframe\">\n",
       "  <thead>\n",
       "    <tr style=\"text-align: right;\">\n",
       "      <th></th>\n",
       "      <th>summary</th>\n",
       "      <th>price</th>\n",
       "    </tr>\n",
       "  </thead>\n",
       "  <tbody>\n",
       "    <tr>\n",
       "      <th>0</th>\n",
       "      <td>count</td>\n",
       "      <td>4078413</td>\n",
       "    </tr>\n",
       "    <tr>\n",
       "      <th>1</th>\n",
       "      <td>mean</td>\n",
       "      <td>36832.33714314857</td>\n",
       "    </tr>\n",
       "    <tr>\n",
       "      <th>2</th>\n",
       "      <td>stddev</td>\n",
       "      <td>97990.26909538891</td>\n",
       "    </tr>\n",
       "    <tr>\n",
       "      <th>3</th>\n",
       "      <td>min</td>\n",
       "      <td>1350.0</td>\n",
       "    </tr>\n",
       "    <tr>\n",
       "      <th>4</th>\n",
       "      <td>max</td>\n",
       "      <td>9999999.0</td>\n",
       "    </tr>\n",
       "  </tbody>\n",
       "</table>\n",
       "</div>"
      ],
      "text/plain": [
       "  summary              price\n",
       "0   count            4078413\n",
       "1    mean  36832.33714314857\n",
       "2  stddev  97990.26909538891\n",
       "3     min             1350.0\n",
       "4     max          9999999.0"
      ]
     },
     "execution_count": 18,
     "metadata": {},
     "output_type": "execute_result"
    }
   ],
   "source": [
    "# check price col\n",
    "df_calendar_new.select(col('price')).describe().toPandas()"
   ]
  },
  {
   "cell_type": "code",
   "execution_count": 19,
   "id": "c9a8cd86-f1a1-487b-94c0-869c4ca446c7",
   "metadata": {
    "scrolled": true
   },
   "outputs": [
    {
     "name": "stderr",
     "output_type": "stream",
     "text": [
      "                                                                                \r"
     ]
    }
   ],
   "source": [
    "price_data = df_calendar_new.select('price').toPandas()"
   ]
  },
  {
   "cell_type": "code",
   "execution_count": 20,
   "id": "16444d53-e93b-4830-8e5c-5d6634dc35f0",
   "metadata": {},
   "outputs": [],
   "source": [
    "price_dist = price_data.groupby('price').size().reset_index(name='count').sort_values('price')"
   ]
  },
  {
   "cell_type": "code",
   "execution_count": 21,
   "id": "1414d72e-28eb-4394-97a6-9b297035cbd7",
   "metadata": {},
   "outputs": [
    {
     "data": {
      "text/plain": [
       "<AxesSubplot:title={'center':'Distribution of values in column \"price\"'}, xlabel='price', ylabel='count'>"
      ]
     },
     "execution_count": 21,
     "metadata": {},
     "output_type": "execute_result"
    },
    {
     "data": {
      "image/png": "[encoded data removed]",
      "text/plain": [
       "<Figure size 640x480 with 1 Axes>"
      ]
     },
     "metadata": {},
     "output_type": "display_data"
    }
   ],
   "source": [
    "price_dist.plot(kind='scatter', x='price', y='count', \n",
    "                legend=False, title='Distribution of values in column \"price\"')"
   ]
  },
  {
   "cell_type": "code",
   "execution_count": 22,
   "id": "aff6bf3e",
   "metadata": {},
   "outputs": [
    {
     "name": "stderr",
     "output_type": "stream",
     "text": [
      "                                                                                \r"
     ]
    },
    {
     "data": {
      "text/plain": [
       "465529"
      ]
     },
     "execution_count": 22,
     "metadata": {},
     "output_type": "execute_result"
    }
   ],
   "source": [
    "# Find out if there's a difference in cols \"price\" and \"adjusted_price\"\n",
    "df_with_diff = df_calendar_new.withColumn(\"price_difference\", col(\"price\") - col(\"adjusted_price\"))\n",
    "\n",
    "# Filter rows where price_difference is not zero\n",
    "rows_with_difference = df_with_diff.filter(col(\"price_difference\") != 0)\n",
    "\n",
    "# count how many rows with differences\n",
    "rows_with_difference.count()"
   ]
  },
  {
   "cell_type": "code",
   "execution_count": 23,
   "id": "686a257c",
   "metadata": {},
   "outputs": [
    {
     "name": "stderr",
     "output_type": "stream",
     "text": [
      "                                                                                \r"
     ]
    },
    {
     "data": {
      "text/plain": [
       "25639"
      ]
     },
     "execution_count": 23,
     "metadata": {},
     "output_type": "execute_result"
    }
   ],
   "source": [
    "rows_with_difference.filter(col('adjusted_price')>col('price')).count()"
   ]
  },
  {
   "cell_type": "code",
   "execution_count": 24,
   "id": "708248db",
   "metadata": {},
   "outputs": [
    {
     "name": "stderr",
     "output_type": "stream",
     "text": [
      "                                                                                \r"
     ]
    },
    {
     "data": {
      "text/plain": [
       "439890"
      ]
     },
     "execution_count": 24,
     "metadata": {},
     "output_type": "execute_result"
    }
   ],
   "source": [
    "rows_with_difference.filter(col('adjusted_price')<col('price')).count()"
   ]
  },
  {
   "cell_type": "code",
   "execution_count": 25,
   "id": "ee368b60",
   "metadata": {},
   "outputs": [
    {
     "name": "stderr",
     "output_type": "stream",
     "text": [
      "                                                                                \r"
     ]
    },
    {
     "data": {
      "text/plain": [
       "3612884"
      ]
     },
     "execution_count": 25,
     "metadata": {},
     "output_type": "execute_result"
    }
   ],
   "source": [
    "df_calendar_new.filter(col('adjusted_price')==col('price')).count()"
   ]
  },
  {
   "cell_type": "markdown",
   "id": "33ff0054",
   "metadata": {},
   "source": [
    "Since there's no data dictionary, I don't really know for sure what is 'adjusted_price' col, but I will take it as main and save col 'price' to drop later."
   ]
  },
  {
   "cell_type": "code",
   "execution_count": 26,
   "id": "894158bb",
   "metadata": {},
   "outputs": [],
   "source": [
    "# alongside with 'min/maximum_nights' which doesn't look correct\n",
    "col_to_drop = ['price', 'minimum_nights', 'maximum_nights']"
   ]
  },
  {
   "cell_type": "code",
   "execution_count": 27,
   "id": "2ddfc43b",
   "metadata": {},
   "outputs": [
    {
     "data": {
      "text/plain": [
       "DataFrame[listing_id: bigint, date: date, available: int, price: float, adjusted_price: float, minimum_nights: int, maximum_nights: int, date_unix: bigint, price_difference: float]"
      ]
     },
     "execution_count": 27,
     "metadata": {},
     "output_type": "execute_result"
    }
   ],
   "source": [
    "# clear unused df-s from memory\n",
    "df_with_diff.unpersist()\n",
    "rows_with_difference.unpersist()"
   ]
  },
  {
   "cell_type": "code",
   "execution_count": null,
   "id": "060867ad",
   "metadata": {},
   "outputs": [],
   "source": []
  },
  {
   "cell_type": "markdown",
   "id": "142fc785",
   "metadata": {},
   "source": [
    "## Load 2nd dataset"
   ]
  },
  {
   "cell_type": "code",
   "execution_count": 28,
   "id": "ec0f4d7d",
   "metadata": {},
   "outputs": [],
   "source": [
    "df_list = spark.read.csv(dataset_path_hdfs + \"listings.csv\",\n",
    "    header=True, # 1st line is a header\n",
    "    quote='\"',  \n",
    "    escape='\"', \n",
    "    multiLine=True,  # Handles new lines in fields\n",
    "    inferSchema=True,  # detect data types automatically\n",
    "    ignoreLeadingWhiteSpace=True,  # Ignoring white space in a line\n",
    "    ignoreTrailingWhiteSpace=True)"
   ]
  },
  {
   "cell_type": "code",
   "execution_count": 29,
   "id": "abb40a3b",
   "metadata": {
    "scrolled": true
   },
   "outputs": [
    {
     "name": "stdout",
     "output_type": "stream",
     "text": [
      "+------+--------------------+--------------+------------+-----------+--------------------+--------------------+---------------------+--------------------+-------+--------------------+---------------+----------+-------------+--------------------+------------------+------------------+--------------------+-----------------+--------------------+--------------------+------------------+-------------------+-------------------------+------------------+--------------------+----------------------+--------------------+----------------------+----------------------------+--------+---------+--------------------+---------------+------------+---------+--------------+--------+----+--------------------+----------+--------------+--------------+----------------------+----------------------+----------------------+----------------------+----------------------+----------------------+----------------+----------------+---------------+---------------+---------------+----------------+---------------------+-----------------+---------------------+----------------------+------------+-----------+--------------------+----------------------+-------------------------+---------------------+---------------------------+----------------------+-------------------+----------+----------------+------------------------------+-------------------------------------------+--------------------------------------------+-------------------------------------------+-----------------+\n",
      "|    id|         listing_url|     scrape_id|last_scraped|     source|                name|         description|neighborhood_overview|         picture_url|host_id|            host_url|      host_name|host_since|host_location|          host_about|host_response_time|host_response_rate|host_acceptance_rate|host_is_superhost|  host_thumbnail_url|    host_picture_url|host_neighbourhood|host_listings_count|host_total_listings_count|host_verifications|host_has_profile_pic|host_identity_verified|       neighbourhood|neighbourhood_cleansed|neighbourhood_group_cleansed|latitude|longitude|       property_type|      room_type|accommodates|bathrooms|bathrooms_text|bedrooms|beds|           amenities|     price|minimum_nights|maximum_nights|minimum_minimum_nights|maximum_minimum_nights|minimum_maximum_nights|maximum_maximum_nights|minimum_nights_avg_ntm|maximum_nights_avg_ntm|calendar_updated|has_availability|availability_30|availability_60|availability_90|availability_365|calendar_last_scraped|number_of_reviews|number_of_reviews_ltm|number_of_reviews_l30d|first_review|last_review|review_scores_rating|review_scores_accuracy|review_scores_cleanliness|review_scores_checkin|review_scores_communication|review_scores_location|review_scores_value|   license|instant_bookable|calculated_host_listings_count|calculated_host_listings_count_entire_homes|calculated_host_listings_count_private_rooms|calculated_host_listings_count_shared_rooms|reviews_per_month|\n",
      "+------+--------------------+--------------+------------+-----------+--------------------+--------------------+---------------------+--------------------+-------+--------------------+---------------+----------+-------------+--------------------+------------------+------------------+--------------------+-----------------+--------------------+--------------------+------------------+-------------------+-------------------------+------------------+--------------------+----------------------+--------------------+----------------------+----------------------------+--------+---------+--------------------+---------------+------------+---------+--------------+--------+----+--------------------+----------+--------------+--------------+----------------------+----------------------+----------------------+----------------------+----------------------+----------------------+----------------+----------------+---------------+---------------+---------------+----------------+---------------------+-----------------+---------------------+----------------------+------------+-----------+--------------------+----------------------+-------------------------+---------------------+---------------------------+----------------------+-------------------+----------+----------------+------------------------------+-------------------------------------------+--------------------------------------------+-------------------------------------------+-----------------+\n",
      "|197677|https://www.airbn...|20230629055629|  2023-06-29|city scrape|Rental unit in Su...|<b>The space</b><...|                 null|https://a0.muscac...| 964081|https://www.airbn...|Yoshimi & Marek|2011-08-13| Tokyo, Japan|Would love to tra...|within a few hours|              100%|                 88%|                t|https://a0.muscac...|https://a0.muscac...|   Sumida District|                  1|                        2|['email', 'phone']|                   t|                     t|                null|             Sumida Ku|                        null|35.71707|139.82608|  Entire rental unit|Entire home/apt|           2|     null|        1 bath|       1|   2|[\"Dryer\", \"Free w...|$11,000.00|             3|          1125|                     3|                     3|                  1125|                  1125|                   3.0|                1125.0|            null|               t|              0|              0|              0|              24|           2023-06-29|              173|                    8|                     1|  2011-09-21| 2023-05-30|                4.78|                  4.74|                     4.92|                 4.84|                       4.83|                  4.53|               4.79|M130003350|               f|                             1|                                          1|                                           0|                                          0|             1.21|\n",
      "|776070|https://www.airbn...|20230629055629|  2023-06-29|city scrape|Home in Kita-ku ·...|We have been in a...| We love Nishinipp...|https://a0.muscac...| 801494|https://www.airbn...|            Kei|2011-07-10|        Japan|Love culture/food...|    within an hour|              100%|                100%|             null|https://a0.muscac...|https://a0.muscac...|     Kita District|                  1|                        6|['email', 'phone']|                   t|                     t|Kita-ku, Tokyo, J...|               Kita Ku|                        null|35.73844|139.76917|Private room in home|   Private room|           1|     null| 1 shared bath|    null|   1|[\"Smoke alarm\", \"...| $7,208.00|             3|            14|                     3|                     3|                    14|                    14|                   3.0|                  14.0|            null|               t|              0|              2|              2|              67|           2023-06-29|              243|                   15|                     4|  2012-11-28| 2023-06-20|                4.98|                  4.96|                     4.92|                 4.98|                       4.98|                  4.83|               4.91|      null|               f|                             1|                                          0|                                           1|                                          0|             1.89|\n",
      "+------+--------------------+--------------+------------+-----------+--------------------+--------------------+---------------------+--------------------+-------+--------------------+---------------+----------+-------------+--------------------+------------------+------------------+--------------------+-----------------+--------------------+--------------------+------------------+-------------------+-------------------------+------------------+--------------------+----------------------+--------------------+----------------------+----------------------------+--------+---------+--------------------+---------------+------------+---------+--------------+--------+----+--------------------+----------+--------------+--------------+----------------------+----------------------+----------------------+----------------------+----------------------+----------------------+----------------+----------------+---------------+---------------+---------------+----------------+---------------------+-----------------+---------------------+----------------------+------------+-----------+--------------------+----------------------+-------------------------+---------------------+---------------------------+----------------------+-------------------+----------+----------------+------------------------------+-------------------------------------------+--------------------------------------------+-------------------------------------------+-----------------+\n",
      "only showing top 2 rows\n",
      "\n"
     ]
    }
   ],
   "source": [
    "df_list.show(2)"
   ]
  },
  {
   "cell_type": "code",
   "execution_count": 30,
   "id": "1eea2158",
   "metadata": {},
   "outputs": [
    {
     "data": {
      "text/html": [
       "<div>\n",
       "<style scoped>\n",
       "    .dataframe tbody tr th:only-of-type {\n",
       "        vertical-align: middle;\n",
       "    }\n",
       "\n",
       "    .dataframe tbody tr th {\n",
       "        vertical-align: top;\n",
       "    }\n",
       "\n",
       "    .dataframe thead th {\n",
       "        text-align: right;\n",
       "    }\n",
       "</style>\n",
       "<table border=\"1\" class=\"dataframe\">\n",
       "  <thead>\n",
       "    <tr style=\"text-align: right;\">\n",
       "      <th></th>\n",
       "      <th>id</th>\n",
       "      <th>listing_url</th>\n",
       "      <th>scrape_id</th>\n",
       "      <th>last_scraped</th>\n",
       "      <th>source</th>\n",
       "      <th>name</th>\n",
       "      <th>description</th>\n",
       "      <th>neighborhood_overview</th>\n",
       "      <th>picture_url</th>\n",
       "      <th>host_id</th>\n",
       "      <th>...</th>\n",
       "      <th>review_scores_communication</th>\n",
       "      <th>review_scores_location</th>\n",
       "      <th>review_scores_value</th>\n",
       "      <th>license</th>\n",
       "      <th>instant_bookable</th>\n",
       "      <th>calculated_host_listings_count</th>\n",
       "      <th>calculated_host_listings_count_entire_homes</th>\n",
       "      <th>calculated_host_listings_count_private_rooms</th>\n",
       "      <th>calculated_host_listings_count_shared_rooms</th>\n",
       "      <th>reviews_per_month</th>\n",
       "    </tr>\n",
       "  </thead>\n",
       "  <tbody>\n",
       "    <tr>\n",
       "      <th>0</th>\n",
       "      <td>197677</td>\n",
       "      <td>https://www.airbnb.com/rooms/197677</td>\n",
       "      <td>20230629055629</td>\n",
       "      <td>2023-06-29</td>\n",
       "      <td>city scrape</td>\n",
       "      <td>Rental unit in Sumida · ★4.78 · 1 bedroom · 2 ...</td>\n",
       "      <td>&lt;b&gt;The space&lt;/b&gt;&lt;br /&gt;We are happy to welcome ...</td>\n",
       "      <td>None</td>\n",
       "      <td>https://a0.muscache.com/pictures/38437056/d27f...</td>\n",
       "      <td>964081</td>\n",
       "      <td>...</td>\n",
       "      <td>4.830</td>\n",
       "      <td>4.530</td>\n",
       "      <td>4.790</td>\n",
       "      <td>M130003350</td>\n",
       "      <td>f</td>\n",
       "      <td>1</td>\n",
       "      <td>1</td>\n",
       "      <td>0</td>\n",
       "      <td>0</td>\n",
       "      <td>1.210</td>\n",
       "    </tr>\n",
       "    <tr>\n",
       "      <th>1</th>\n",
       "      <td>776070</td>\n",
       "      <td>https://www.airbnb.com/rooms/776070</td>\n",
       "      <td>20230629055629</td>\n",
       "      <td>2023-06-29</td>\n",
       "      <td>city scrape</td>\n",
       "      <td>Home in Kita-ku · ★4.98 · 1 bedroom · 1 bed · ...</td>\n",
       "      <td>We have been in airbnb since 2011 and it has g...</td>\n",
       "      <td>We love Nishinippori because is nearer to Toky...</td>\n",
       "      <td>https://a0.muscache.com/pictures/efd9f039-dbd2...</td>\n",
       "      <td>801494</td>\n",
       "      <td>...</td>\n",
       "      <td>4.980</td>\n",
       "      <td>4.830</td>\n",
       "      <td>4.910</td>\n",
       "      <td>None</td>\n",
       "      <td>f</td>\n",
       "      <td>1</td>\n",
       "      <td>0</td>\n",
       "      <td>1</td>\n",
       "      <td>0</td>\n",
       "      <td>1.890</td>\n",
       "    </tr>\n",
       "    <tr>\n",
       "      <th>2</th>\n",
       "      <td>905944</td>\n",
       "      <td>https://www.airbnb.com/rooms/905944</td>\n",
       "      <td>20230629055629</td>\n",
       "      <td>2023-06-29</td>\n",
       "      <td>city scrape</td>\n",
       "      <td>Rental unit in Shibuya · ★4.76 · 2 bedrooms · ...</td>\n",
       "      <td>NEWLY RENOVATED property entirely for you &amp; yo...</td>\n",
       "      <td>Hatagaya is a great neighborhood located 4 min...</td>\n",
       "      <td>https://a0.muscache.com/pictures/miso/Hosting-...</td>\n",
       "      <td>4847803</td>\n",
       "      <td>...</td>\n",
       "      <td>4.900</td>\n",
       "      <td>4.770</td>\n",
       "      <td>4.770</td>\n",
       "      <td>Hotels and Inns Business Act | 渋谷区保健所長 | 31渋健生...</td>\n",
       "      <td>t</td>\n",
       "      <td>5</td>\n",
       "      <td>5</td>\n",
       "      <td>0</td>\n",
       "      <td>0</td>\n",
       "      <td>1.490</td>\n",
       "    </tr>\n",
       "    <tr>\n",
       "      <th>3</th>\n",
       "      <td>1016831</td>\n",
       "      <td>https://www.airbnb.com/rooms/1016831</td>\n",
       "      <td>20230629055629</td>\n",
       "      <td>2023-06-29</td>\n",
       "      <td>city scrape</td>\n",
       "      <td>Home in Setagaya · ★4.94 · 1 bedroom · 2 beds ...</td>\n",
       "      <td>Hi there, I am Wakana and I live with my two f...</td>\n",
       "      <td>The location is walkable distance to famous Sh...</td>\n",
       "      <td>https://a0.muscache.com/pictures/airflow/Hosti...</td>\n",
       "      <td>5596383</td>\n",
       "      <td>...</td>\n",
       "      <td>4.980</td>\n",
       "      <td>4.920</td>\n",
       "      <td>4.890</td>\n",
       "      <td>None</td>\n",
       "      <td>f</td>\n",
       "      <td>1</td>\n",
       "      <td>0</td>\n",
       "      <td>1</td>\n",
       "      <td>0</td>\n",
       "      <td>1.960</td>\n",
       "    </tr>\n",
       "    <tr>\n",
       "      <th>4</th>\n",
       "      <td>1196177</td>\n",
       "      <td>https://www.airbnb.com/rooms/1196177</td>\n",
       "      <td>20230629055629</td>\n",
       "      <td>2023-06-29</td>\n",
       "      <td>city scrape</td>\n",
       "      <td>Home in 足立区 · ★4.71 · 1 bedroom · 1.5 shared b...</td>\n",
       "      <td>Ｓtay with host.We can help your travel.&lt;br /&gt;B...</td>\n",
       "      <td>There are shopping mall near Senjuohashi stati...</td>\n",
       "      <td>https://a0.muscache.com/pictures/72890882/05ec...</td>\n",
       "      <td>5686404</td>\n",
       "      <td>...</td>\n",
       "      <td>4.880</td>\n",
       "      <td>4.670</td>\n",
       "      <td>4.750</td>\n",
       "      <td>None</td>\n",
       "      <td>f</td>\n",
       "      <td>1</td>\n",
       "      <td>0</td>\n",
       "      <td>1</td>\n",
       "      <td>0</td>\n",
       "      <td>0.790</td>\n",
       "    </tr>\n",
       "  </tbody>\n",
       "</table>\n",
       "<p>5 rows × 75 columns</p>\n",
       "</div>"
      ],
      "text/plain": [
       "        id                           listing_url       scrape_id last_scraped  \\\n",
       "0   197677   https://www.airbnb.com/rooms/197677  20230629055629   2023-06-29   \n",
       "1   776070   https://www.airbnb.com/rooms/776070  20230629055629   2023-06-29   \n",
       "2   905944   https://www.airbnb.com/rooms/905944  20230629055629   2023-06-29   \n",
       "3  1016831  https://www.airbnb.com/rooms/1016831  20230629055629   2023-06-29   \n",
       "4  1196177  https://www.airbnb.com/rooms/1196177  20230629055629   2023-06-29   \n",
       "\n",
       "        source                                               name  \\\n",
       "0  city scrape  Rental unit in Sumida · ★4.78 · 1 bedroom · 2 ...   \n",
       "1  city scrape  Home in Kita-ku · ★4.98 · 1 bedroom · 1 bed · ...   \n",
       "2  city scrape  Rental unit in Shibuya · ★4.76 · 2 bedrooms · ...   \n",
       "3  city scrape  Home in Setagaya · ★4.94 · 1 bedroom · 2 beds ...   \n",
       "4  city scrape  Home in 足立区 · ★4.71 · 1 bedroom · 1.5 shared b...   \n",
       "\n",
       "                                         description  \\\n",
       "0  <b>The space</b><br />We are happy to welcome ...   \n",
       "1  We have been in airbnb since 2011 and it has g...   \n",
       "2  NEWLY RENOVATED property entirely for you & yo...   \n",
       "3  Hi there, I am Wakana and I live with my two f...   \n",
       "4  Ｓtay with host.We can help your travel.<br />B...   \n",
       "\n",
       "                               neighborhood_overview  \\\n",
       "0                                               None   \n",
       "1  We love Nishinippori because is nearer to Toky...   \n",
       "2  Hatagaya is a great neighborhood located 4 min...   \n",
       "3  The location is walkable distance to famous Sh...   \n",
       "4  There are shopping mall near Senjuohashi stati...   \n",
       "\n",
       "                                         picture_url  host_id  ...  \\\n",
       "0  https://a0.muscache.com/pictures/38437056/d27f...   964081  ...   \n",
       "1  https://a0.muscache.com/pictures/efd9f039-dbd2...   801494  ...   \n",
       "2  https://a0.muscache.com/pictures/miso/Hosting-...  4847803  ...   \n",
       "3  https://a0.muscache.com/pictures/airflow/Hosti...  5596383  ...   \n",
       "4  https://a0.muscache.com/pictures/72890882/05ec...  5686404  ...   \n",
       "\n",
       "  review_scores_communication review_scores_location review_scores_value  \\\n",
       "0                       4.830                  4.530               4.790   \n",
       "1                       4.980                  4.830               4.910   \n",
       "2                       4.900                  4.770               4.770   \n",
       "3                       4.980                  4.920               4.890   \n",
       "4                       4.880                  4.670               4.750   \n",
       "\n",
       "                                             license instant_bookable  \\\n",
       "0                                         M130003350                f   \n",
       "1                                               None                f   \n",
       "2  Hotels and Inns Business Act | 渋谷区保健所長 | 31渋健生...                t   \n",
       "3                                               None                f   \n",
       "4                                               None                f   \n",
       "\n",
       "  calculated_host_listings_count calculated_host_listings_count_entire_homes  \\\n",
       "0                              1                                           1   \n",
       "1                              1                                           0   \n",
       "2                              5                                           5   \n",
       "3                              1                                           0   \n",
       "4                              1                                           0   \n",
       "\n",
       "  calculated_host_listings_count_private_rooms  \\\n",
       "0                                            0   \n",
       "1                                            1   \n",
       "2                                            0   \n",
       "3                                            1   \n",
       "4                                            1   \n",
       "\n",
       "  calculated_host_listings_count_shared_rooms reviews_per_month  \n",
       "0                                           0             1.210  \n",
       "1                                           0             1.890  \n",
       "2                                           0             1.490  \n",
       "3                                           0             1.960  \n",
       "4                                           0             0.790  \n",
       "\n",
       "[5 rows x 75 columns]"
      ]
     },
     "execution_count": 30,
     "metadata": {},
     "output_type": "execute_result"
    }
   ],
   "source": [
    "# The output above is messy, let's print it pandas' df\n",
    "df_list.limit(5).toPandas()"
   ]
  },
  {
   "cell_type": "code",
   "execution_count": 31,
   "id": "bdc7151f",
   "metadata": {
    "scrolled": true
   },
   "outputs": [
    {
     "name": "stdout",
     "output_type": "stream",
     "text": [
      "root\n",
      " |-- id: long (nullable = true)\n",
      " |-- listing_url: string (nullable = true)\n",
      " |-- scrape_id: long (nullable = true)\n",
      " |-- last_scraped: date (nullable = true)\n",
      " |-- source: string (nullable = true)\n",
      " |-- name: string (nullable = true)\n",
      " |-- description: string (nullable = true)\n",
      " |-- neighborhood_overview: string (nullable = true)\n",
      " |-- picture_url: string (nullable = true)\n",
      " |-- host_id: integer (nullable = true)\n",
      " |-- host_url: string (nullable = true)\n",
      " |-- host_name: string (nullable = true)\n",
      " |-- host_since: date (nullable = true)\n",
      " |-- host_location: string (nullable = true)\n",
      " |-- host_about: string (nullable = true)\n",
      " |-- host_response_time: string (nullable = true)\n",
      " |-- host_response_rate: string (nullable = true)\n",
      " |-- host_acceptance_rate: string (nullable = true)\n",
      " |-- host_is_superhost: string (nullable = true)\n",
      " |-- host_thumbnail_url: string (nullable = true)\n",
      " |-- host_picture_url: string (nullable = true)\n",
      " |-- host_neighbourhood: string (nullable = true)\n",
      " |-- host_listings_count: integer (nullable = true)\n",
      " |-- host_total_listings_count: integer (nullable = true)\n",
      " |-- host_verifications: string (nullable = true)\n",
      " |-- host_has_profile_pic: string (nullable = true)\n",
      " |-- host_identity_verified: string (nullable = true)\n",
      " |-- neighbourhood: string (nullable = true)\n",
      " |-- neighbourhood_cleansed: string (nullable = true)\n",
      " |-- neighbourhood_group_cleansed: string (nullable = true)\n",
      " |-- latitude: double (nullable = true)\n",
      " |-- longitude: double (nullable = true)\n",
      " |-- property_type: string (nullable = true)\n",
      " |-- room_type: string (nullable = true)\n",
      " |-- accommodates: integer (nullable = true)\n",
      " |-- bathrooms: string (nullable = true)\n",
      " |-- bathrooms_text: string (nullable = true)\n",
      " |-- bedrooms: integer (nullable = true)\n",
      " |-- beds: integer (nullable = true)\n",
      " |-- amenities: string (nullable = true)\n",
      " |-- price: string (nullable = true)\n",
      " |-- minimum_nights: integer (nullable = true)\n",
      " |-- maximum_nights: integer (nullable = true)\n",
      " |-- minimum_minimum_nights: integer (nullable = true)\n",
      " |-- maximum_minimum_nights: integer (nullable = true)\n",
      " |-- minimum_maximum_nights: integer (nullable = true)\n",
      " |-- maximum_maximum_nights: integer (nullable = true)\n",
      " |-- minimum_nights_avg_ntm: double (nullable = true)\n",
      " |-- maximum_nights_avg_ntm: double (nullable = true)\n",
      " |-- calendar_updated: string (nullable = true)\n",
      " |-- has_availability: string (nullable = true)\n",
      " |-- availability_30: integer (nullable = true)\n",
      " |-- availability_60: integer (nullable = true)\n",
      " |-- availability_90: integer (nullable = true)\n",
      " |-- availability_365: integer (nullable = true)\n",
      " |-- calendar_last_scraped: date (nullable = true)\n",
      " |-- number_of_reviews: integer (nullable = true)\n",
      " |-- number_of_reviews_ltm: integer (nullable = true)\n",
      " |-- number_of_reviews_l30d: integer (nullable = true)\n",
      " |-- first_review: date (nullable = true)\n",
      " |-- last_review: date (nullable = true)\n",
      " |-- review_scores_rating: double (nullable = true)\n",
      " |-- review_scores_accuracy: double (nullable = true)\n",
      " |-- review_scores_cleanliness: double (nullable = true)\n",
      " |-- review_scores_checkin: double (nullable = true)\n",
      " |-- review_scores_communication: double (nullable = true)\n",
      " |-- review_scores_location: double (nullable = true)\n",
      " |-- review_scores_value: double (nullable = true)\n",
      " |-- license: string (nullable = true)\n",
      " |-- instant_bookable: string (nullable = true)\n",
      " |-- calculated_host_listings_count: integer (nullable = true)\n",
      " |-- calculated_host_listings_count_entire_homes: integer (nullable = true)\n",
      " |-- calculated_host_listings_count_private_rooms: integer (nullable = true)\n",
      " |-- calculated_host_listings_count_shared_rooms: integer (nullable = true)\n",
      " |-- reviews_per_month: double (nullable = true)\n",
      "\n"
     ]
    }
   ],
   "source": [
    "# check if everithing loaded correctly through schema\n",
    "df_list.printSchema()"
   ]
  },
  {
   "cell_type": "markdown",
   "id": "cb1cc93d",
   "metadata": {},
   "source": [
    "From this dataset I'll take some info to complete my 1st one. Potentially useful columns are:\n",
    "* neighbourhood_cleansed\n",
    "* host_identity_verified\n",
    "* property_type\n",
    "* instant_bookable"
   ]
  },
  {
   "cell_type": "code",
   "execution_count": 32,
   "id": "4cebe05e",
   "metadata": {
    "scrolled": true
   },
   "outputs": [
    {
     "data": {
      "text/html": [
       "<div>\n",
       "<style scoped>\n",
       "    .dataframe tbody tr th:only-of-type {\n",
       "        vertical-align: middle;\n",
       "    }\n",
       "\n",
       "    .dataframe tbody tr th {\n",
       "        vertical-align: top;\n",
       "    }\n",
       "\n",
       "    .dataframe thead th {\n",
       "        text-align: right;\n",
       "    }\n",
       "</style>\n",
       "<table border=\"1\" class=\"dataframe\">\n",
       "  <thead>\n",
       "    <tr style=\"text-align: right;\">\n",
       "      <th></th>\n",
       "      <th>property_type</th>\n",
       "    </tr>\n",
       "  </thead>\n",
       "  <tbody>\n",
       "    <tr>\n",
       "      <th>0</th>\n",
       "      <td>Entire chalet</td>\n",
       "    </tr>\n",
       "    <tr>\n",
       "      <th>1</th>\n",
       "      <td>Earthen home</td>\n",
       "    </tr>\n",
       "    <tr>\n",
       "      <th>2</th>\n",
       "      <td>Farm stay</td>\n",
       "    </tr>\n",
       "    <tr>\n",
       "      <th>3</th>\n",
       "      <td>Entire rental unit</td>\n",
       "    </tr>\n",
       "    <tr>\n",
       "      <th>4</th>\n",
       "      <td>Shared room in hostel</td>\n",
       "    </tr>\n",
       "    <tr>\n",
       "      <th>5</th>\n",
       "      <td>Private room in condo</td>\n",
       "    </tr>\n",
       "    <tr>\n",
       "      <th>6</th>\n",
       "      <td>Room in boutique hotel</td>\n",
       "    </tr>\n",
       "    <tr>\n",
       "      <th>7</th>\n",
       "      <td>Room in bed and breakfast</td>\n",
       "    </tr>\n",
       "    <tr>\n",
       "      <th>8</th>\n",
       "      <td>Hut</td>\n",
       "    </tr>\n",
       "    <tr>\n",
       "      <th>9</th>\n",
       "      <td>Entire cabin</td>\n",
       "    </tr>\n",
       "    <tr>\n",
       "      <th>10</th>\n",
       "      <td>Entire guesthouse</td>\n",
       "    </tr>\n",
       "    <tr>\n",
       "      <th>11</th>\n",
       "      <td>Entire guest suite</td>\n",
       "    </tr>\n",
       "    <tr>\n",
       "      <th>12</th>\n",
       "      <td>Private room in home</td>\n",
       "    </tr>\n",
       "    <tr>\n",
       "      <th>13</th>\n",
       "      <td>Entire place</td>\n",
       "    </tr>\n",
       "    <tr>\n",
       "      <th>14</th>\n",
       "      <td>Private room in barn</td>\n",
       "    </tr>\n",
       "    <tr>\n",
       "      <th>15</th>\n",
       "      <td>Shared room in hut</td>\n",
       "    </tr>\n",
       "    <tr>\n",
       "      <th>16</th>\n",
       "      <td>Tiny home</td>\n",
       "    </tr>\n",
       "    <tr>\n",
       "      <th>17</th>\n",
       "      <td>Entire vacation home</td>\n",
       "    </tr>\n",
       "    <tr>\n",
       "      <th>18</th>\n",
       "      <td>Private room in hostel</td>\n",
       "    </tr>\n",
       "    <tr>\n",
       "      <th>19</th>\n",
       "      <td>Private room in camper/rv</td>\n",
       "    </tr>\n",
       "    <tr>\n",
       "      <th>20</th>\n",
       "      <td>Room in aparthotel</td>\n",
       "    </tr>\n",
       "    <tr>\n",
       "      <th>21</th>\n",
       "      <td>Private room in guest suite</td>\n",
       "    </tr>\n",
       "    <tr>\n",
       "      <th>22</th>\n",
       "      <td>Room in hostel</td>\n",
       "    </tr>\n",
       "    <tr>\n",
       "      <th>23</th>\n",
       "      <td>Entire townhouse</td>\n",
       "    </tr>\n",
       "    <tr>\n",
       "      <th>24</th>\n",
       "      <td>Entire villa</td>\n",
       "    </tr>\n",
       "    <tr>\n",
       "      <th>25</th>\n",
       "      <td>Room in hotel</td>\n",
       "    </tr>\n",
       "    <tr>\n",
       "      <th>26</th>\n",
       "      <td>Private room in rental unit</td>\n",
       "    </tr>\n",
       "    <tr>\n",
       "      <th>27</th>\n",
       "      <td>Private room in bed and breakfast</td>\n",
       "    </tr>\n",
       "    <tr>\n",
       "      <th>28</th>\n",
       "      <td>Treehouse</td>\n",
       "    </tr>\n",
       "    <tr>\n",
       "      <th>29</th>\n",
       "      <td>Entire serviced apartment</td>\n",
       "    </tr>\n",
       "    <tr>\n",
       "      <th>30</th>\n",
       "      <td>Private room in cabin</td>\n",
       "    </tr>\n",
       "    <tr>\n",
       "      <th>31</th>\n",
       "      <td>Private room in serviced apartment</td>\n",
       "    </tr>\n",
       "    <tr>\n",
       "      <th>32</th>\n",
       "      <td>Entire condo</td>\n",
       "    </tr>\n",
       "    <tr>\n",
       "      <th>33</th>\n",
       "      <td>Private room in ryokan</td>\n",
       "    </tr>\n",
       "    <tr>\n",
       "      <th>34</th>\n",
       "      <td>Shared room in hotel</td>\n",
       "    </tr>\n",
       "    <tr>\n",
       "      <th>35</th>\n",
       "      <td>Private room in resort</td>\n",
       "    </tr>\n",
       "    <tr>\n",
       "      <th>36</th>\n",
       "      <td>Shared room in home</td>\n",
       "    </tr>\n",
       "    <tr>\n",
       "      <th>37</th>\n",
       "      <td>Private room in hut</td>\n",
       "    </tr>\n",
       "    <tr>\n",
       "      <th>38</th>\n",
       "      <td>Private room</td>\n",
       "    </tr>\n",
       "    <tr>\n",
       "      <th>39</th>\n",
       "      <td>Entire loft</td>\n",
       "    </tr>\n",
       "    <tr>\n",
       "      <th>40</th>\n",
       "      <td>Room in rental unit</td>\n",
       "    </tr>\n",
       "    <tr>\n",
       "      <th>41</th>\n",
       "      <td>Room in serviced apartment</td>\n",
       "    </tr>\n",
       "    <tr>\n",
       "      <th>42</th>\n",
       "      <td>Barn</td>\n",
       "    </tr>\n",
       "    <tr>\n",
       "      <th>43</th>\n",
       "      <td>Shared room in loft</td>\n",
       "    </tr>\n",
       "    <tr>\n",
       "      <th>44</th>\n",
       "      <td>Private room in tiny home</td>\n",
       "    </tr>\n",
       "    <tr>\n",
       "      <th>45</th>\n",
       "      <td>Private room in villa</td>\n",
       "    </tr>\n",
       "    <tr>\n",
       "      <th>46</th>\n",
       "      <td>Private room in guesthouse</td>\n",
       "    </tr>\n",
       "    <tr>\n",
       "      <th>47</th>\n",
       "      <td>Room in ryokan</td>\n",
       "    </tr>\n",
       "    <tr>\n",
       "      <th>48</th>\n",
       "      <td>Houseboat</td>\n",
       "    </tr>\n",
       "    <tr>\n",
       "      <th>49</th>\n",
       "      <td>Entire cottage</td>\n",
       "    </tr>\n",
       "    <tr>\n",
       "      <th>50</th>\n",
       "      <td>Entire home</td>\n",
       "    </tr>\n",
       "    <tr>\n",
       "      <th>51</th>\n",
       "      <td>Shared room in bed and breakfast</td>\n",
       "    </tr>\n",
       "    <tr>\n",
       "      <th>52</th>\n",
       "      <td>Private room in vacation home</td>\n",
       "    </tr>\n",
       "    <tr>\n",
       "      <th>53</th>\n",
       "      <td>Private room in townhouse</td>\n",
       "    </tr>\n",
       "    <tr>\n",
       "      <th>54</th>\n",
       "      <td>Entire bungalow</td>\n",
       "    </tr>\n",
       "    <tr>\n",
       "      <th>55</th>\n",
       "      <td>Shared room in rental unit</td>\n",
       "    </tr>\n",
       "    <tr>\n",
       "      <th>56</th>\n",
       "      <td>Shared room in ryokan</td>\n",
       "    </tr>\n",
       "  </tbody>\n",
       "</table>\n",
       "</div>"
      ],
      "text/plain": [
       "                         property_type\n",
       "0                        Entire chalet\n",
       "1                         Earthen home\n",
       "2                            Farm stay\n",
       "3                   Entire rental unit\n",
       "4                Shared room in hostel\n",
       "5                Private room in condo\n",
       "6               Room in boutique hotel\n",
       "7            Room in bed and breakfast\n",
       "8                                  Hut\n",
       "9                         Entire cabin\n",
       "10                   Entire guesthouse\n",
       "11                  Entire guest suite\n",
       "12                Private room in home\n",
       "13                        Entire place\n",
       "14                Private room in barn\n",
       "15                  Shared room in hut\n",
       "16                           Tiny home\n",
       "17                Entire vacation home\n",
       "18              Private room in hostel\n",
       "19           Private room in camper/rv\n",
       "20                  Room in aparthotel\n",
       "21         Private room in guest suite\n",
       "22                      Room in hostel\n",
       "23                    Entire townhouse\n",
       "24                        Entire villa\n",
       "25                       Room in hotel\n",
       "26         Private room in rental unit\n",
       "27   Private room in bed and breakfast\n",
       "28                           Treehouse\n",
       "29           Entire serviced apartment\n",
       "30               Private room in cabin\n",
       "31  Private room in serviced apartment\n",
       "32                        Entire condo\n",
       "33              Private room in ryokan\n",
       "34                Shared room in hotel\n",
       "35              Private room in resort\n",
       "36                 Shared room in home\n",
       "37                 Private room in hut\n",
       "38                        Private room\n",
       "39                         Entire loft\n",
       "40                 Room in rental unit\n",
       "41          Room in serviced apartment\n",
       "42                                Barn\n",
       "43                 Shared room in loft\n",
       "44           Private room in tiny home\n",
       "45               Private room in villa\n",
       "46          Private room in guesthouse\n",
       "47                      Room in ryokan\n",
       "48                           Houseboat\n",
       "49                      Entire cottage\n",
       "50                         Entire home\n",
       "51    Shared room in bed and breakfast\n",
       "52       Private room in vacation home\n",
       "53           Private room in townhouse\n",
       "54                     Entire bungalow\n",
       "55          Shared room in rental unit\n",
       "56               Shared room in ryokan"
      ]
     },
     "execution_count": 32,
     "metadata": {},
     "output_type": "execute_result"
    }
   ],
   "source": [
    "df_list.select('property_type').distinct().toPandas()"
   ]
  },
  {
   "cell_type": "code",
   "execution_count": 33,
   "id": "60bbc907",
   "metadata": {
    "scrolled": true
   },
   "outputs": [
    {
     "data": {
      "text/html": [
       "<div>\n",
       "<style scoped>\n",
       "    .dataframe tbody tr th:only-of-type {\n",
       "        vertical-align: middle;\n",
       "    }\n",
       "\n",
       "    .dataframe tbody tr th {\n",
       "        vertical-align: top;\n",
       "    }\n",
       "\n",
       "    .dataframe thead th {\n",
       "        text-align: right;\n",
       "    }\n",
       "</style>\n",
       "<table border=\"1\" class=\"dataframe\">\n",
       "  <thead>\n",
       "    <tr style=\"text-align: right;\">\n",
       "      <th></th>\n",
       "      <th>room_type</th>\n",
       "    </tr>\n",
       "  </thead>\n",
       "  <tbody>\n",
       "    <tr>\n",
       "      <th>0</th>\n",
       "      <td>Shared room</td>\n",
       "    </tr>\n",
       "    <tr>\n",
       "      <th>1</th>\n",
       "      <td>Hotel room</td>\n",
       "    </tr>\n",
       "    <tr>\n",
       "      <th>2</th>\n",
       "      <td>Entire home/apt</td>\n",
       "    </tr>\n",
       "    <tr>\n",
       "      <th>3</th>\n",
       "      <td>Private room</td>\n",
       "    </tr>\n",
       "  </tbody>\n",
       "</table>\n",
       "</div>"
      ],
      "text/plain": [
       "         room_type\n",
       "0      Shared room\n",
       "1       Hotel room\n",
       "2  Entire home/apt\n",
       "3     Private room"
      ]
     },
     "execution_count": 33,
     "metadata": {},
     "output_type": "execute_result"
    }
   ],
   "source": [
    "df_list.select('room_type').distinct().toPandas()"
   ]
  },
  {
   "cell_type": "markdown",
   "id": "5308422a",
   "metadata": {},
   "source": [
    "After checking unique values, I see that the feature I want is called 'room_type', while 'property_type' consist of marketing names."
   ]
  },
  {
   "cell_type": "code",
   "execution_count": 34,
   "id": "8dfae212",
   "metadata": {
    "scrolled": true
   },
   "outputs": [
    {
     "name": "stdout",
     "output_type": "stream",
     "text": [
      "                                          Column  Nulls    Type\n",
      "0                                             id      0  bigint\n",
      "1                                    listing_url      0  string\n",
      "2                                      scrape_id      0  bigint\n",
      "3                                   last_scraped      0    date\n",
      "4                                         source      0  string\n",
      "5                                           name      0  string\n",
      "6                                    description      1  string\n",
      "7                          neighborhood_overview   3456  string\n",
      "8                                    picture_url      0  string\n",
      "9                                        host_id      0     int\n",
      "10                                      host_url      0  string\n",
      "11                                     host_name      0  string\n",
      "12                                    host_since      0    date\n",
      "13                                 host_location   3582  string\n",
      "14                                    host_about   3332  string\n",
      "15                            host_response_time      0  string\n",
      "16                            host_response_rate      0  string\n",
      "17                          host_acceptance_rate      0  string\n",
      "18                             host_is_superhost   1081  string\n",
      "19                            host_thumbnail_url      0  string\n",
      "20                              host_picture_url      0  string\n",
      "21                            host_neighbourhood   5431  string\n",
      "22                           host_listings_count      0     int\n",
      "23                     host_total_listings_count      0     int\n",
      "24                            host_verifications      0  string\n",
      "25                          host_has_profile_pic      0  string\n",
      "26                        host_identity_verified      0  string\n",
      "27                                 neighbourhood   3456  string\n",
      "28                        neighbourhood_cleansed      0  string\n",
      "29                  neighbourhood_group_cleansed  11177  string\n",
      "30                                      latitude      0  double\n",
      "31                                     longitude      0  double\n",
      "32                                 property_type      0  string\n",
      "33                                     room_type      0  string\n",
      "34                                  accommodates      0     int\n",
      "35                                     bathrooms  11177  string\n",
      "36                                bathrooms_text     25  string\n",
      "37                                      bedrooms   1940     int\n",
      "38                                          beds    461     int\n",
      "39                                     amenities      0  string\n",
      "40                                         price      0  string\n",
      "41                                minimum_nights      0     int\n",
      "42                                maximum_nights      0     int\n",
      "43                        minimum_minimum_nights      2     int\n",
      "44                        maximum_minimum_nights      2     int\n",
      "45                        minimum_maximum_nights      2     int\n",
      "46                        maximum_maximum_nights      2     int\n",
      "47                        minimum_nights_avg_ntm      2  double\n",
      "48                        maximum_nights_avg_ntm      2  double\n",
      "49                              calendar_updated  11177  string\n",
      "50                              has_availability      0  string\n",
      "51                               availability_30      0     int\n",
      "52                               availability_60      0     int\n",
      "53                               availability_90      0     int\n",
      "54                              availability_365      0     int\n",
      "55                         calendar_last_scraped      0    date\n",
      "56                             number_of_reviews      0     int\n",
      "57                         number_of_reviews_ltm      0     int\n",
      "58                        number_of_reviews_l30d      0     int\n",
      "59                                  first_review   1252    date\n",
      "60                                   last_review   1252    date\n",
      "61                          review_scores_rating   1252  double\n",
      "62                        review_scores_accuracy   1254  double\n",
      "63                     review_scores_cleanliness   1254  double\n",
      "64                         review_scores_checkin   1254  double\n",
      "65                   review_scores_communication   1254  double\n",
      "66                        review_scores_location   1255  double\n",
      "67                           review_scores_value   1255  double\n",
      "68                                       license    940  string\n",
      "69                              instant_bookable      0  string\n",
      "70                calculated_host_listings_count      0     int\n",
      "71   calculated_host_listings_count_entire_homes      0     int\n",
      "72  calculated_host_listings_count_private_rooms      0     int\n",
      "73   calculated_host_listings_count_shared_rooms      0     int\n",
      "74                             reviews_per_month   1252  double\n",
      "\n",
      "\tA dataset shape: 11177 rows, 75 columns.\n"
     ]
    }
   ],
   "source": [
    "print_dataframe_info(df_list)"
   ]
  },
  {
   "cell_type": "code",
   "execution_count": 35,
   "id": "3eaaaefd",
   "metadata": {},
   "outputs": [
    {
     "name": "stdout",
     "output_type": "stream",
     "text": [
      "Unique IDs: 11177, 2 properties more than in calendar data.\n"
     ]
    }
   ],
   "source": [
    "# check unique values in the 'id' column\n",
    "unique_ids_list = df_list.select(\"id\").distinct()\n",
    "\n",
    "print(f'Unique IDs: {unique_ids_list.count()},', unique_ids_list.count()-unique_ids, 'properties more than in calendar data.')"
   ]
  },
  {
   "cell_type": "code",
   "execution_count": null,
   "id": "c27bdc56",
   "metadata": {},
   "outputs": [],
   "source": []
  },
  {
   "cell_type": "code",
   "execution_count": 36,
   "id": "3c2ac24b",
   "metadata": {},
   "outputs": [],
   "source": [
    "# select columns that I want to use to expand calendar df\n",
    "selected_cols = [\n",
    "    'id',\n",
    "    'neighbourhood_cleansed',\n",
    "    'room_type',\n",
    "    'host_identity_verified',\n",
    "    'instant_bookable',\n",
    "]\n",
    "new_df = df_list.select(selected_cols)\n",
    "# Merge new df with selected_cols and df_calendar on col id and listing_id\n",
    "merged_df = new_df.join(df_calendar_new, new_df.id == df_calendar_new.listing_id, \"inner\")"
   ]
  },
  {
   "cell_type": "code",
   "execution_count": 37,
   "id": "1a778d48",
   "metadata": {},
   "outputs": [
    {
     "data": {
      "text/plain": [
       "[Row(id=197677, neighbourhood_cleansed='Sumida Ku', room_type='Entire home/apt', host_identity_verified='t', instant_bookable='f', listing_id=197677, date=datetime.date(2023, 6, 29), available=0, price=11000.0, adjusted_price=11000.0, minimum_nights=3, maximum_nights=1125, date_unix=1687996800)]"
      ]
     },
     "execution_count": 37,
     "metadata": {},
     "output_type": "execute_result"
    }
   ],
   "source": [
    "merged_df.take(1)"
   ]
  },
  {
   "cell_type": "code",
   "execution_count": 38,
   "id": "0f80ec9d",
   "metadata": {},
   "outputs": [],
   "source": [
    "merged_df = merged_df.drop('listing_id') # dublicated col"
   ]
  },
  {
   "cell_type": "code",
   "execution_count": 39,
   "id": "184e2d09",
   "metadata": {},
   "outputs": [],
   "source": [
    "#fixing dtypes\n",
    "df = merged_df \\\n",
    "    .withColumn(\"host_identity_verified\", when(col(\"host_identity_verified\") == \"t\", True).otherwise(False).cast(BooleanType())) \\\n",
    "    .withColumn(\"instant_bookable\", when(col(\"instant_bookable\") == \"t\", True).otherwise(False).cast(BooleanType()))\n",
    "\n",
    "merged_df.unpersist()\n",
    "new_df.unpersist()"
   ]
  },
  {
   "cell_type": "code",
   "execution_count": 40,
   "id": "b37d2393",
   "metadata": {},
   "outputs": [
    {
     "data": {
      "text/plain": [
       "[('id', 'bigint'),\n",
       " ('neighbourhood_cleansed', 'string'),\n",
       " ('room_type', 'string'),\n",
       " ('host_identity_verified', 'boolean'),\n",
       " ('instant_bookable', 'boolean'),\n",
       " ('date', 'date'),\n",
       " ('available', 'int'),\n",
       " ('price', 'float'),\n",
       " ('adjusted_price', 'float'),\n",
       " ('minimum_nights', 'int'),\n",
       " ('maximum_nights', 'int'),\n",
       " ('date_unix', 'bigint')]"
      ]
     },
     "execution_count": 40,
     "metadata": {},
     "output_type": "execute_result"
    }
   ],
   "source": [
    "df.dtypes"
   ]
  },
  {
   "cell_type": "markdown",
   "id": "e87f672c",
   "metadata": {},
   "source": [
    "## Analysis"
   ]
  },
  {
   "cell_type": "code",
   "execution_count": 51,
   "id": "0c82a26c",
   "metadata": {},
   "outputs": [
    {
     "name": "stderr",
     "output_type": "stream",
     "text": [
      "                                                                                \r"
     ]
    }
   ],
   "source": [
    "df_busy_times = df.where(col(\"available\") == False)\\\n",
    "                  .withColumn(\"year_month\", concat_ws(\"-\", year(\"date\"), month(\"date\"))) \\\n",
    "                  .select('year_month') \\\n",
    "                  .groupBy(\"year_month\").count().toPandas()\n",
    "\n",
    "df_busy_times['year_month'] = df_busy_times['year_month'].astype('period[M]')\n",
    "df_busy_times.sort_values(['year_month'], ascending=True, inplace=True)"
   ]
  },
  {
   "cell_type": "code",
   "execution_count": 52,
   "id": "d15213de",
   "metadata": {},
   "outputs": [
    {
     "data": {
      "text/html": [
       "<div>\n",
       "<style scoped>\n",
       "    .dataframe tbody tr th:only-of-type {\n",
       "        vertical-align: middle;\n",
       "    }\n",
       "\n",
       "    .dataframe tbody tr th {\n",
       "        vertical-align: top;\n",
       "    }\n",
       "\n",
       "    .dataframe thead th {\n",
       "        text-align: right;\n",
       "    }\n",
       "</style>\n",
       "<table border=\"1\" class=\"dataframe\">\n",
       "  <thead>\n",
       "    <tr style=\"text-align: right;\">\n",
       "      <th></th>\n",
       "      <th>year_month</th>\n",
       "      <th>count</th>\n",
       "    </tr>\n",
       "  </thead>\n",
       "  <tbody>\n",
       "    <tr>\n",
       "      <th>0</th>\n",
       "      <td>2023-12</td>\n",
       "      <td>172760</td>\n",
       "    </tr>\n",
       "    <tr>\n",
       "      <th>1</th>\n",
       "      <td>2024-06</td>\n",
       "      <td>237767</td>\n",
       "    </tr>\n",
       "    <tr>\n",
       "      <th>2</th>\n",
       "      <td>2023-11</td>\n",
       "      <td>152969</td>\n",
       "    </tr>\n",
       "    <tr>\n",
       "      <th>3</th>\n",
       "      <td>2024-04</td>\n",
       "      <td>263468</td>\n",
       "    </tr>\n",
       "    <tr>\n",
       "      <th>4</th>\n",
       "      <td>2023-09</td>\n",
       "      <td>127688</td>\n",
       "    </tr>\n",
       "  </tbody>\n",
       "</table>\n",
       "</div>"
      ],
      "text/plain": [
       "  year_month   count\n",
       "0    2023-12  172760\n",
       "1    2024-06  237767\n",
       "2    2023-11  152969\n",
       "3    2024-04  263468\n",
       "4    2023-09  127688"
      ]
     },
     "execution_count": 52,
     "metadata": {},
     "output_type": "execute_result"
    }
   ],
   "source": [
    "df_busy_times.head()"
   ]
  },
  {
   "cell_type": "code",
   "execution_count": 88,
   "id": "06038c84",
   "metadata": {},
   "outputs": [
    {
     "data": {
      "image/png": "[encoded data removed]",
      "text/plain": [
       "<Figure size 640x480 with 1 Axes>"
      ]
     },
     "metadata": {},
     "output_type": "display_data"
    }
   ],
   "source": [
    "ax=df_busy_times.plot(x='year_month', y='count', kind='bar', legend=False)\n",
    "#ax.bar_label(ax.containers[0])"
   ]
  },
  {
   "cell_type": "code",
   "execution_count": 62,
   "id": "814bc47b",
   "metadata": {},
   "outputs": [
    {
     "name": "stderr",
     "output_type": "stream",
     "text": [
      "                                                                                \r"
     ]
    }
   ],
   "source": [
    "#'month+year' column, calculate the mean of 'price',\n",
    "# and sort the results by 'year-month\n",
    "\n",
    "df_price = df.where(col(\"price\") > 0) \\\n",
    "                  .withColumn(\"year_month\", concat_ws(\"-\", year(\"date\"), month(\"date\"))) \\\n",
    "                  .groupBy(\"year_month\") \\\n",
    "                  .agg(mean(\"price\").alias(\"mean\")) \\\n",
    "                  .toPandas()\n",
    "\n",
    "df_price['year_month'] = df_price['year_month'].astype('period[M]')\n",
    "df_price.sort_values('year_month', ascending=True, inplace=True)"
   ]
  },
  {
   "cell_type": "code",
   "execution_count": 63,
   "id": "7c9a32e9",
   "metadata": {},
   "outputs": [
    {
     "data": {
      "text/html": [
       "<div>\n",
       "<style scoped>\n",
       "    .dataframe tbody tr th:only-of-type {\n",
       "        vertical-align: middle;\n",
       "    }\n",
       "\n",
       "    .dataframe tbody tr th {\n",
       "        vertical-align: top;\n",
       "    }\n",
       "\n",
       "    .dataframe thead th {\n",
       "        text-align: right;\n",
       "    }\n",
       "</style>\n",
       "<table border=\"1\" class=\"dataframe\">\n",
       "  <thead>\n",
       "    <tr style=\"text-align: right;\">\n",
       "      <th></th>\n",
       "      <th>year_month</th>\n",
       "      <th>mean</th>\n",
       "    </tr>\n",
       "  </thead>\n",
       "  <tbody>\n",
       "    <tr>\n",
       "      <th>10</th>\n",
       "      <td>2023-06</td>\n",
       "      <td>24948.570</td>\n",
       "    </tr>\n",
       "    <tr>\n",
       "      <th>11</th>\n",
       "      <td>2023-07</td>\n",
       "      <td>26837.515</td>\n",
       "    </tr>\n",
       "    <tr>\n",
       "      <th>8</th>\n",
       "      <td>2023-08</td>\n",
       "      <td>28268.562</td>\n",
       "    </tr>\n",
       "    <tr>\n",
       "      <th>4</th>\n",
       "      <td>2023-09</td>\n",
       "      <td>33886.480</td>\n",
       "    </tr>\n",
       "    <tr>\n",
       "      <th>7</th>\n",
       "      <td>2023-10</td>\n",
       "      <td>34420.471</td>\n",
       "    </tr>\n",
       "  </tbody>\n",
       "</table>\n",
       "</div>"
      ],
      "text/plain": [
       "   year_month      mean\n",
       "10    2023-06 24948.570\n",
       "11    2023-07 26837.515\n",
       "8     2023-08 28268.562\n",
       "4     2023-09 33886.480\n",
       "7     2023-10 34420.471"
      ]
     },
     "execution_count": 63,
     "metadata": {},
     "output_type": "execute_result"
    }
   ],
   "source": [
    "df_price.head()"
   ]
  },
  {
   "cell_type": "code",
   "execution_count": 72,
   "id": "16974f58",
   "metadata": {},
   "outputs": [
    {
     "data": {
      "image/png": "[encoded data removed]",
      "text/plain": [
       "<Figure size 640x480 with 1 Axes>"
      ]
     },
     "metadata": {},
     "output_type": "display_data"
    }
   ],
   "source": [
    "ax = df_price.plot(kind='line', \n",
    "                   x='year_month', y='mean', \n",
    "                   legend=False,\n",
    "                  title=\"Mean price per night by Month\")"
   ]
  },
  {
   "cell_type": "code",
   "execution_count": null,
   "id": "7e7301af",
   "metadata": {
    "scrolled": true
   },
   "outputs": [],
   "source": [
    "df_list.unpersist()"
   ]
  },
  {
   "cell_type": "code",
   "execution_count": null,
   "id": "cae9b9c0",
   "metadata": {
    "scrolled": true
   },
   "outputs": [],
   "source": [
    "df_calendar.unpersist()"
   ]
  },
  {
   "cell_type": "markdown",
   "id": "96a364eb",
   "metadata": {},
   "source": [
    "## Feature Selection and Engineering"
   ]
  },
  {
   "cell_type": "code",
   "execution_count": 73,
   "id": "fe78bd1b",
   "metadata": {
    "scrolled": true
   },
   "outputs": [
    {
     "data": {
      "text/plain": [
       "['id',\n",
       " 'neighbourhood_cleansed',\n",
       " 'room_type',\n",
       " 'host_identity_verified',\n",
       " 'instant_bookable',\n",
       " 'date',\n",
       " 'available',\n",
       " 'price',\n",
       " 'adjusted_price',\n",
       " 'minimum_nights',\n",
       " 'maximum_nights',\n",
       " 'date_unix']"
      ]
     },
     "execution_count": 73,
     "metadata": {},
     "output_type": "execute_result"
    }
   ],
   "source": [
    "df.columns"
   ]
  },
  {
   "cell_type": "markdown",
   "id": "1706eedc",
   "metadata": {},
   "source": [
    "I'd like to add new features regarding date to help algorithm find dependencies:\n",
    "- if date is a weekend\n",
    "- if date is a holiday"
   ]
  },
  {
   "cell_type": "code",
   "execution_count": 74,
   "id": "34082562",
   "metadata": {},
   "outputs": [],
   "source": [
    "# if date is a weekend\n",
    "df_date = df.withColumn(\"weekends\", dayofweek(col(\"date\")).isin([6, 7]))"
   ]
  },
  {
   "cell_type": "code",
   "execution_count": 76,
   "id": "d6738e0a",
   "metadata": {},
   "outputs": [],
   "source": [
    "# for holiday detection I use holidays module and user-defined function\n",
    "jp_holidays = holidays.Japan()\n",
    "\n",
    "def is_holiday(date):\n",
    "    return date in jp_holidays\n",
    "\n",
    "holiday_udf = udf(is_holiday, BooleanType())\n",
    "\n",
    "df_date = df_date.withColumn(\"holiday\", holiday_udf(col(\"date\"))).sort('date')"
   ]
  },
  {
   "cell_type": "code",
   "execution_count": 77,
   "id": "3859811e",
   "metadata": {},
   "outputs": [
    {
     "name": "stderr",
     "output_type": "stream",
     "text": [
      "[Stage 432:============================>                            (1 + 1) / 2]\r"
     ]
    },
    {
     "name": "stdout",
     "output_type": "stream",
     "text": [
      "                    Column  Nulls     Type\n",
      "0                       id      0   bigint\n",
      "1   neighbourhood_cleansed      0   string\n",
      "2                room_type      0   string\n",
      "3   host_identity_verified      0  boolean\n",
      "4         instant_bookable      0  boolean\n",
      "5                     date      0     date\n",
      "6                available      0      int\n",
      "7                    price      0    float\n",
      "8           adjusted_price      0    float\n",
      "9           minimum_nights    332      int\n",
      "10          maximum_nights    332      int\n",
      "11               date_unix      0   bigint\n",
      "12                weekends      0  boolean\n",
      "13                 holiday      0  boolean\n",
      "\n",
      "\tA dataset shape: 4078413 rows, 14 columns.\n"
     ]
    },
    {
     "name": "stderr",
     "output_type": "stream",
     "text": [
      "                                                                                \r"
     ]
    }
   ],
   "source": [
    "print_dataframe_info(df_date)"
   ]
  },
  {
   "cell_type": "code",
   "execution_count": 78,
   "id": "ecd87028-aa95-42fa-b6e5-31f290909c4a",
   "metadata": {},
   "outputs": [
    {
     "data": {
      "text/plain": [
       "['price',\n",
       " 'minimum_nights',\n",
       " 'maximum_nights',\n",
       " 'id',\n",
       " 'minimum_nights',\n",
       " 'maximum_nights',\n",
       " 'date']"
      ]
     },
     "execution_count": 78,
     "metadata": {},
     "output_type": "execute_result"
    }
   ],
   "source": [
    "col_to_drop += ['id', 'date']\n",
    "col_to_drop"
   ]
  },
  {
   "cell_type": "code",
   "execution_count": 79,
   "id": "34dd9034",
   "metadata": {},
   "outputs": [],
   "source": [
    "# Cleaning up \n",
    "# deleting cols that won't be used for training\n",
    "df_model = df_date.drop(*col_to_drop)\n",
    "# rename col\n",
    "df_model = df_model.withColumnRenamed('adjusted_price', 'price')"
   ]
  },
  {
   "cell_type": "code",
   "execution_count": 80,
   "id": "2d79c5d8",
   "metadata": {},
   "outputs": [
    {
     "name": "stderr",
     "output_type": "stream",
     "text": [
      "                                                                                \r"
     ]
    }
   ],
   "source": [
    "# Save DataFrame to HDFS in Parquet format\n",
    "df_model.write.parquet(dataset_path_hdfs +\"db\",\n",
    "                       # for re-running this code\n",
    "                       mode=\"overwrite\")"
   ]
  },
  {
   "cell_type": "code",
   "execution_count": 81,
   "id": "4bace5a4",
   "metadata": {},
   "outputs": [],
   "source": [
    "spark.stop()"
   ]
  },
  {
   "cell_type": "code",
   "execution_count": null,
   "id": "8b35b2a7",
   "metadata": {},
   "outputs": [],
   "source": []
  }
 ],
 "metadata": {
  "kernelspec": {
   "display_name": "Python 3 (ipykernel)",
   "language": "python",
   "name": "python3"
  },
  "language_info": {
   "codemirror_mode": {
    "name": "ipython",
    "version": 3
   },
   "file_extension": ".py",
   "mimetype": "text/x-python",
   "name": "python",
   "nbconvert_exporter": "python",
   "pygments_lexer": "ipython3",
   "version": "3.10.12"
  }
 },
 "nbformat": 4,
 "nbformat_minor": 5
}
